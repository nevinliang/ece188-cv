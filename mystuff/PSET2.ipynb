version https://git-lfs.github.com/spec/v1
oid sha256:7ccbe59a98794cc30be4ccf3d8c40db0f52221f221624a957d7e23ea8c27914d
size 731697
